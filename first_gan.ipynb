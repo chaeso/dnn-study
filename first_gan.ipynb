{
 "cells": [
  {
   "cell_type": "code",
   "execution_count": 10,
   "metadata": {
    "collapsed": false
   },
   "outputs": [
    {
     "name": "stdout",
     "output_type": "stream",
     "text": [
      "Extracting mnist_data/train-images-idx3-ubyte.gz\n",
      "Extracting mnist_data/train-labels-idx1-ubyte.gz\n",
      "Extracting mnist_data/t10k-images-idx3-ubyte.gz\n",
      "Extracting mnist_data/t10k-labels-idx1-ubyte.gz\n"
     ]
    }
   ],
   "source": [
    "import tensorflow as tf\n",
    "import numpy as np\n",
    "import matplotlib.pyplot as plt\n",
    "\n",
    "%matplotlib inline\n",
    "%config IPCompleter.greedy=True\n",
    "\n",
    "from tensorflow.examples.tutorials import mnist\n",
    "\n",
    "input_data = mnist.input_data.read_data_sets('mnist_data')"
   ]
  },
  {
   "cell_type": "code",
   "execution_count": 168,
   "metadata": {
    "collapsed": false
   },
   "outputs": [
    {
     "name": "stdout",
     "output_type": "stream",
     "text": [
      "L3 =  (?, 4, 4, 128)\n",
      "L3 flatten =  (?, 2048)\n",
      "out =  (?, 1)\n"
     ]
    }
   ],
   "source": [
    "sess = tf.InteractiveSession()\n",
    "    \n",
    "from pprint import pprint\n",
    "import inspect\n",
    "import random\n",
    "\n",
    "batch_size = 3\n",
    "img, label = input_data.test.next_batch(batch_size)  # labels\n",
    "\n",
    "\n",
    "def descriminator(x_input):\n",
    "    # input image sz = 28*28\n",
    "    prefix = str(random.randint(1, 1000000))\n",
    "    X_img = tf.reshape(X, [-1, 28, 28, 1])\n",
    "    W1 = tf.get_variable(prefix+'W1', [3, 3, 1, 32], tf.float32, tf.contrib.layers.xavier_initializer())\n",
    "    b1 = tf.get_variable(prefix+'b1', [32], None, tf.constant_initializer())\n",
    "    \n",
    "    W2 = tf.get_variable(prefix+'W2', [3, 3, 32, 64], tf.float32, tf.contrib.layers.xavier_initializer())\n",
    "    b2 = tf.get_variable(prefix+'b2', [64], None, tf.constant_initializer())\n",
    "    \n",
    "    W3 = tf.get_variable(prefix+'W3', [3, 3, 64, 128], tf.float32, tf.contrib.layers.xavier_initializer())\n",
    "    b3 = tf.get_variable(prefix+'b3', [128], None, tf.constant_initializer())\n",
    "\n",
    "    W4 = tf.get_variable(prefix+'W4', [4*4*128, 1], tf.float32, tf.contrib.layers.xavier_initializer())\n",
    "    b4 = tf.get_variable(prefix+'b4', [1], None, tf.constant_initializer())\n",
    "    \n",
    "    L1 = tf.nn.relu(tf.nn.conv2d(X_img, W1, [1, 1, 1, 1], 'SAME') + b1)  # [-1, 14, 14, 32]\n",
    "    L1 = tf.nn.avg_pool(L1, ksize=[1, 2, 2, 1], strides=[1, 2, 2, 1], padding='SAME')\n",
    "    \n",
    "    L2 = tf.nn.relu(tf.nn.conv2d(L1, W2, [1, 1, 1, 1], 'SAME') + b2)  # [-1, 7, 7, 64]\n",
    "    L2 = tf.nn.avg_pool(L2, ksize=[1, 2, 2, 1], strides=[1, 2, 2, 1], padding='SAME')\n",
    "    \n",
    "    L3 = tf.nn.relu(tf.nn.conv2d(L2, W3, [1, 1, 1, 1], 'SAME') + b3)  # [-1, 4, 4, 128]    \n",
    "    L3 = tf.nn.avg_pool(L3, ksize=[1, 2, 2, 1], strides=[1, 2, 2, 1], padding='SAME')\n",
    "    \n",
    "    print(\"L3 = \", L3.shape)\n",
    "    L3_flatten = tf.reshape(L3, [-1, 4*4*128])\n",
    "    print(\"L3 flatten = \", L3_flatten.shape)\n",
    "    out = tf.matmul(L3_flatten, W4)\n",
    "    print(\"out = \", out.shape)\n",
    "    return out\n",
    "\n",
    "\n",
    "def generator(batch_size, z_dim):\n",
    "    # z_dim 은 normal distribution 에서 z_dim 벡터 크기 만큼 noise를 만든다\n",
    "    # [1, z_dim] -> 2D image -> x2 -> x4 ...\n",
    "    \n",
    "    \n",
    "    pass\n",
    "\n",
    "X = tf.placeholder(tf.float32, [None, 784])\n",
    "result = descriminator(X)"
   ]
  },
  {
   "cell_type": "code",
   "execution_count": 169,
   "metadata": {
    "collapsed": false
   },
   "outputs": [
    {
     "data": {
      "text/plain": [
       "array([[-0.0143731 ],\n",
       "       [-0.00421447],\n",
       "       [ 0.003403  ]], dtype=float32)"
      ]
     },
     "execution_count": 169,
     "metadata": {},
     "output_type": "execute_result"
    }
   ],
   "source": [
    "sess.run(tf. global_variables_initializer())  # 모든 변수 선언이 끝나고 나서 실행되어야 한다!\n",
    "sess.run(result, feed_dict={X: img})"
   ]
  },
  {
   "cell_type": "code",
   "execution_count": null,
   "metadata": {
    "collapsed": true
   },
   "outputs": [],
   "source": []
  }
 ],
 "metadata": {
  "kernelspec": {
   "display_name": "Python 3",
   "language": "python",
   "name": "python3"
  },
  "language_info": {
   "codemirror_mode": {
    "name": "ipython",
    "version": 3
   },
   "file_extension": ".py",
   "mimetype": "text/x-python",
   "name": "python",
   "nbconvert_exporter": "python",
   "pygments_lexer": "ipython3",
   "version": "3.5.0"
  }
 },
 "nbformat": 4,
 "nbformat_minor": 2
}
